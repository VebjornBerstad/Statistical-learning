{
 "cells": [
  {
   "cell_type": "code",
   "execution_count": null,
   "metadata": {},
   "outputs": [],
   "source": [
    "import pandas as pd\n",
    "\n",
    "# Load data from csv files\n",
    "df = pd.read_csv(\n",
    "    \"2022-2023 Football Player Stats.csv\", encoding=\"ISO-8859-1\", delimiter=\";\"\n",
    ")\n",
    "\n",
    "# Print the first 5 rows\n",
    "df.head()"
   ]
  },
  {
   "cell_type": "code",
   "execution_count": null,
   "metadata": {},
   "outputs": [],
   "source": [
    "# Remove rows with column 'Comp' != 'Premier League'\n",
    "df = df[df[\"Comp\"] == \"Premier League\"]"
   ]
  },
  {
   "cell_type": "code",
   "execution_count": null,
   "metadata": {},
   "outputs": [],
   "source": [
    "# Load point values from csv file\n",
    "\n",
    "df_points = pd.read_csv(\"players.csv\")\n",
    "df_points = df_points[[\"name\", \"total_points\", 'expected_goals', 'expected_assists']]"
   ]
  },
  {
   "cell_type": "code",
   "execution_count": null,
   "metadata": {},
   "outputs": [],
   "source": [
    "from fuzzywuzzy import process\n",
    "\n",
    "def get_best_match(name, choices, threshold=60):\n",
    "    match = process.extractOne(name, choices, score_cutoff=threshold)\n",
    "    return match[0] if match else None"
   ]
  },
  {
   "cell_type": "code",
   "execution_count": null,
   "metadata": {},
   "outputs": [],
   "source": [
    "df[\"Player\"] = df[\"Player\"].apply(lambda x: get_best_match(x, df_points[\"name\"]))\n",
    "\n",
    "# Create a dataset with the Player and Matched Name columns to review manually in dataviewer\n",
    "df2 = df[[\"Player\", \"matched_name\"]]\n",
    "\n",
    "# Drop rows with no match\n",
    "df = df.dropna(subset=[\"Player\"])"
   ]
  },
  {
   "cell_type": "code",
   "execution_count": null,
   "metadata": {},
   "outputs": [],
   "source": [
    "# Merge the two datasets on the matched_name column \n",
    "df = df.merge(df_points, how=\"left\", left_on=\"Player\", right_on=\"name\")\n",
    "df = df.drop(columns=[\"name\"])"
   ]
  },
  {
   "cell_type": "code",
   "execution_count": null,
   "metadata": {},
   "outputs": [],
   "source": [
    "# Remove players with minutes played < threshold\n",
    "df = df[df[\"Min\"] > 90]"
   ]
  },
  {
   "cell_type": "code",
   "execution_count": null,
   "metadata": {},
   "outputs": [],
   "source": [
    "# Drop columns that are not needed\n",
    "df = df.drop(\n",
    "    columns=[\"Rk\", \"Nation\", \"Squad\", \"Comp\", \"Age\", \"Born\", \"MP\", \"Starts\", \"90s\", 'Tkl+Int']\n",
    ")\n",
    "\n",
    "# Drop columns that have direct influence on points\n",
    "df = df.drop(\n",
    "    columns=[\n",
    "        \"Goals\",\n",
    "        \"G/Sh\",\n",
    "        \"G/SoT\",\n",
    "        \"ShoPK\",\n",
    "        \"Assists\",\n",
    "        \"GcaPassLive\",\n",
    "        \"GcaPassDead\",\n",
    "        \"GcaDrib\",\n",
    "        \"GcaSh\",\n",
    "        \"GcaFld\",\n",
    "        \"GcaDef\",\n",
    "        \"CrdY\",\n",
    "        \"CrdR\",\n",
    "        \"2CrdY\",\n",
    "        \"OG\",\n",
    "        \"PKwon\",\n",
    "        \"PKcon\",\n",
    "    ]\n",
    ")"
   ]
  },
  {
   "cell_type": "code",
   "execution_count": null,
   "metadata": {},
   "outputs": [],
   "source": [
    "# Calculate quantiles for points and add column to dataframe\n",
    "df[\"points_quantile\"] = pd.qcut(\n",
    "    df[\"total_points\"], 4, labels=False\n",
    ")"
   ]
  },
  {
   "cell_type": "code",
   "execution_count": null,
   "metadata": {},
   "outputs": [],
   "source": [
    "import seaborn as sns\n",
    "import matplotlib.pyplot as plt\n",
    "\n",
    "# Checking Pearsons correlation with total_points\n",
    "\n",
    "numeric_df = df.select_dtypes(exclude=\"object\")\n",
    "correlation_with_points = numeric_df.corr()[\"total_points\"].sort_values(ascending=False)\n",
    "correlation_with_points = correlation_with_points.drop(['points_quantile'])\n",
    "\n",
    "# Plot top 3 correlations vs points using scatterplot\n",
    "for col in correlation_with_points.index[1:4]:\n",
    "    sns.scatterplot(x=col, y=\"total_points\", data=df)\n",
    "    plt.show()\n",
    "\n",
    "# Plotting top 10 correlations with total_points\n",
    "# sns.heatmap(numeric_df[correlation_with_points.index[:10]].corr(), annot=True)"
   ]
  }
 ],
 "metadata": {
  "kernelspec": {
   "display_name": ".venv",
   "language": "python",
   "name": "python3"
  },
  "language_info": {
   "codemirror_mode": {
    "name": "ipython",
    "version": 3
   },
   "file_extension": ".py",
   "mimetype": "text/x-python",
   "name": "python",
   "nbconvert_exporter": "python",
   "pygments_lexer": "ipython3",
   "version": "3.11.6"
  }
 },
 "nbformat": 4,
 "nbformat_minor": 2
}
